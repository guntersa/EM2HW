{
 "cells": [
  {
   "cell_type": "code",
   "execution_count": 15,
   "metadata": {
    "collapsed": true
   },
   "outputs": [],
   "source": [
    "import numpy as np\n",
    "import matplotlib.pyplot as plt\n",
    "%matplotlib inline"
   ]
  },
  {
   "cell_type": "code",
   "execution_count": 25,
   "metadata": {
    "collapsed": true
   },
   "outputs": [],
   "source": [
    "w=1\n",
    "x=0\n",
    "v=3\n",
    "b=.2"
   ]
  },
  {
   "cell_type": "code",
   "execution_count": 30,
   "metadata": {},
   "outputs": [],
   "source": [
    "t=np.arange(0,10)\n",
    "e1list=[]\n",
    "e2list=[]\n",
    "e3list=[]\n",
    "e4list=[]\n",
    "\n",
    "for i in t:\n",
    "    e1=-w*(.1*(x+v*i) + v*(b+.1*i))\n",
    "    e1list.append(e1)\n",
    "    \n",
    "    e2=-w*(1*(x+v*i) + v*(b+1*i))\n",
    "    e2list.append(e2)\n",
    "    \n",
    "    e3=-w*(10*(x+v*i) + v*(b+10*i))\n",
    "    e3list.append(e3)\n",
    "    \n",
    "    e4=-w*(100*(x+v*i) + v*(b+100*i))\n",
    "    e4list.append(e4)"
   ]
  },
  {
   "cell_type": "code",
   "execution_count": 33,
   "metadata": {},
   "outputs": [
    {
     "data": {
      "text/plain": [
       "[<matplotlib.lines.Line2D at 0x22b5f223b38>]"
      ]
     },
     "execution_count": 33,
     "metadata": {},
     "output_type": "execute_result"
    },
    {
     "data": {
      "image/png": "[encoded data removed]",
      "text/plain": [
       "<matplotlib.figure.Figure at 0x22b5f1c58d0>"
      ]
     },
     "metadata": {},
     "output_type": "display_data"
    }
   ],
   "source": [
    "plt.plot(t,e1list)\n",
    "plt.plot(t,e2list)\n",
    "plt.plot(t,e3list)\n",
    "plt.plot(t,e4list)\n"
   ]
  },
  {
   "cell_type": "code",
   "execution_count": null,
   "metadata": {
    "collapsed": true
   },
   "outputs": [],
   "source": []
  }
 ],
 "metadata": {
  "kernelspec": {
   "display_name": "Python 3",
   "language": "python",
   "name": "python3"
  },
  "language_info": {
   "codemirror_mode": {
    "name": "ipython",
    "version": 3
   },
   "file_extension": ".py",
   "mimetype": "text/x-python",
   "name": "python",
   "nbconvert_exporter": "python",
   "pygments_lexer": "ipython3",
   "version": "3.6.2"
  }
 },
 "nbformat": 4,
 "nbformat_minor": 2
}
